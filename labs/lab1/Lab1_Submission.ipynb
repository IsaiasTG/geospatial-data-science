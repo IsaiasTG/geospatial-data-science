{
 "cells": [
  {
   "cell_type": "markdown",
   "id": "a30df838",
   "metadata": {},
   "source": [
    "# Task 1"
   ]
  },
  {
   "cell_type": "code",
   "execution_count": 1,
   "id": "1298f8ee",
   "metadata": {},
   "outputs": [
    {
     "name": "stdout",
     "output_type": "stream",
     "text": [
      "20\n"
     ]
    }
   ],
   "source": [
    "import numpy as np\n",
    "a = 5\n",
    "b = 4\n",
    "c = np.multiply(a, b)\n",
    "print(c)"
   ]
  },
  {
   "cell_type": "markdown",
   "id": "e1cb044b",
   "metadata": {},
   "source": [
    "# Task 2"
   ]
  },
  {
   "cell_type": "code",
   "execution_count": 7,
   "id": "3c84b482",
   "metadata": {},
   "outputs": [
    {
     "name": "stdout",
     "output_type": "stream",
     "text": [
      "KDInspiring.jpg  KDQuote.jpg\r\n"
     ]
    }
   ],
   "source": [
    "ls *.jpg"
   ]
  },
  {
   "cell_type": "markdown",
   "id": "bda22ac9",
   "metadata": {},
   "source": [
    "![](KDInspiring.jpg)"
   ]
  },
  {
   "cell_type": "markdown",
   "id": "9ed0b6fa",
   "metadata": {},
   "source": [
    "This a famous quote from NBA Star **Kevin Durant** who currently plays for the *Brooklyn Nets*.\n",
    "https://www.azquotes.com/quote/562255"
   ]
  },
  {
   "cell_type": "code",
   "execution_count": null,
   "id": "0b76cd62",
   "metadata": {},
   "outputs": [],
   "source": []
  }
 ],
 "metadata": {
  "kernelspec": {
   "display_name": "Python 3 (ipykernel)",
   "language": "python",
   "name": "python3"
  },
  "language_info": {
   "codemirror_mode": {
    "name": "ipython",
    "version": 3
   },
   "file_extension": ".py",
   "mimetype": "text/x-python",
   "name": "python",
   "nbconvert_exporter": "python",
   "pygments_lexer": "ipython3",
   "version": "3.8.12"
  }
 },
 "nbformat": 4,
 "nbformat_minor": 5
}
